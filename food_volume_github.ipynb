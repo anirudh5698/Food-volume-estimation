{
  "nbformat": 4,
  "nbformat_minor": 0,
  "metadata": {
    "colab": {
      "name": "food_volume_github.ipynb",
      "provenance": [],
      "authorship_tag": "ABX9TyNoJ0fJ2LFwAyQoVB2qhLUj",
      "include_colab_link": true
    },
    "kernelspec": {
      "name": "python3",
      "display_name": "Python 3"
    },
    "language_info": {
      "name": "python"
    }
  },
  "cells": [
    {
      "cell_type": "markdown",
      "metadata": {
        "id": "view-in-github",
        "colab_type": "text"
      },
      "source": [
        "<a href=\"https://colab.research.google.com/github/anirudh5698/Food-volume-estimation/blob/main/food_volume_github.ipynb\" target=\"_parent\"><img src=\"https://colab.research.google.com/assets/colab-badge.svg\" alt=\"Open In Colab\"/></a>"
      ]
    },
    {
      "cell_type": "markdown",
      "source": [
        "Required Installations:\n"
      ],
      "metadata": {
        "id": "YxqulN2BMxg7"
      }
    },
    {
      "cell_type": "code",
      "source": [
        "!pip install -U torch==1.5 torchvision==0.6 -f https://download.pytorch.org/whl/cu101/torch_stable.html \n",
        "!pip install cython pyyaml==5.1\n",
        "!pip install -U 'git+https://github.com/cocodataset/cocoapi.git#subdirectory=PythonAPI'\n",
        "import torch, torchvision\n",
        "print(torch.__version__, torch.cuda.is_available())\n",
        "!gcc --version   \n",
        "\n",
        "# install detectron2:\n",
        "!pip install detectron2==0.1.2 -f https://dl.fbaipublicfiles.com/detectron2/wheels/cu101/index.html  \n",
        "!pip install imantics\n",
        "\n"
      ],
      "metadata": {
        "id": "93aDl_BVM16W"
      },
      "execution_count": null,
      "outputs": []
    },
    {
      "cell_type": "markdown",
      "source": [
        "Importing required Libraries:\n"
      ],
      "metadata": {
        "id": "-hnx22gZM9NF"
      }
    },
    {
      "cell_type": "code",
      "source": [
        "# You may need to restart your runtime prior to this, to let your installation take effect\n",
        "# Some basic setup:\n",
        "# Setup detectron2 logger\n",
        "import detectron2\n",
        "from detectron2.utils.logger import setup_logger\n",
        "setup_logger()\n",
        "\n",
        "# import some common libraries\n",
        "import numpy as np\n",
        "import pandas as pd\n",
        "import cv2\n",
        "import json\n",
        "from tqdm.notebook import tqdm\n",
        "\n",
        "# import some common detectron2 utilities\n",
        "from detectron2 import model_zoo\n",
        "from detectron2.engine import DefaultPredictor\n",
        "from detectron2.config import get_cfg\n",
        "from detectron2.utils.visualizer import Visualizer\n",
        "from detectron2.data import MetadataCatalog\n",
        "from detectron2.utils.visualizer import ColorMode\n",
        "from detectron2.data.datasets import register_coco_instances\n",
        "from detectron2.engine import DefaultTrainer\n",
        "from detectron2.evaluation import COCOEvaluator, inference_on_dataset\n",
        "from detectron2.data import build_detection_test_loader\n",
        "\n",
        "# For reading annotations file\n",
        "from pycocotools.coco import COCO\n",
        "\n",
        "# utilities\n",
        "from pprint import pprint # For beautiful print!\n",
        "import os \n",
        "\n",
        "# For data visualisation\n",
        "import matplotlib.pyplot as plt\n",
        "import plotly.graph_objects as go\n",
        "import plotly.express as px\n",
        "from google.colab.patches import cv2_imshow\n",
        "from detectron2.data.datasets import register_coco_instances"
      ],
      "metadata": {
        "id": "SI27c0lmNE0y"
      },
      "execution_count": null,
      "outputs": []
    },
    {
      "cell_type": "markdown",
      "source": [
        "Path Address:\n"
      ],
      "metadata": {
        "id": "zehRXS0fSBCg"
      }
    },
    {
      "cell_type": "code",
      "source": [
        "training_images_path=\"/content/drive/MyDrive/dataset2/train\"\n",
        "testing_images_path=\"/content/drive/MyDrive/dataset2/val\"\n",
        "training_json=\"/content/drive/MyDrive/train.json\"\n",
        "testing_json=\"/content/drive/MyDrive/val.json\"\n",
        "eval_images_path=\"/content/drive/MyDrive/eval_data/Images\"\n",
        "eval_json=\"/content/drive/MyDrive/eval.json\""
      ],
      "metadata": {
        "id": "aVyUJArQNKwz"
      },
      "execution_count": null,
      "outputs": []
    },
    {
      "cell_type": "code",
      "source": [
        "train_coco=COCO(training_json)\n",
        "category_ids = train_coco.loadCats(train_coco.getCatIds())\n",
        "\n",
        "category_names = [_[\"name\"] for _ in category_ids]\n",
        "\n",
        "pprint(\", \".join(category_names))\n"
      ],
      "metadata": {
        "id": "8FjtYf8dSEQM"
      },
      "execution_count": null,
      "outputs": []
    },
    {
      "cell_type": "markdown",
      "source": [
        "Registering Coco Instances\n"
      ],
      "metadata": {
        "id": "Bc1788JYSUK1"
      }
    },
    {
      "cell_type": "code",
      "source": [
        "register_coco_instances(\"training\",{},training_json,training_images_path)\n",
        "register_coco_instances(\"testing\",{},testing_json,testing_images_path)\n",
        "register_coco_instances(\"evaluation\",{},eval_json,eval_images_path)"
      ],
      "metadata": {
        "id": "CJbN_LylSOtY"
      },
      "execution_count": null,
      "outputs": []
    },
    {
      "cell_type": "code",
      "source": [
        "from detectron2.engine import DefaultTrainer\n",
        "from detectron2.config import get_cfg\n",
        "\n",
        "cfg = get_cfg()\n",
        "cfg.merge_from_file(model_zoo.get_config_file(\"COCO-InstanceSegmentation/mask_rcnn_R_50_FPN_3x.yaml\"))\n",
        "cfg.DATASETS.TRAIN = (\"training\",)\n",
        "cfg.DATASETS.TEST = ()\n",
        "cfg.DATALOADER.NUM_WORKERS = 2\n",
        "\n",
        "#cfg.MODEL.WEIGHTS = model_zoo.get_checkpoint_url(\"COCO-InstanceSegmentation/mask_rcnn_R_50_FPN_3x.yaml\")\n",
        "cfg.MODEL.WEIGHTS=\"/content/drive/MyDrive/model_final(1).pth\"\n",
        "cfg.SOLVER.IMS_PER_BATCH = 2\n",
        "cfg.SOLVER.BASE_LR = 0.00025\n",
        "cfg.SOLVER.MAX_ITER = 20000\n",
        "cfg.MODEL.ROI_HEADS.NUM_CLASSES = 103"
      ],
      "metadata": {
        "id": "s_70v7h_TW_G"
      },
      "execution_count": null,
      "outputs": []
    },
    {
      "cell_type": "code",
      "source": [
        "microcontroller_metadata = MetadataCatalog.get(\"training\")"
      ],
      "metadata": {
        "id": "vexO-Fk9SXGx"
      },
      "execution_count": null,
      "outputs": []
    },
    {
      "cell_type": "code",
      "source": [
        "from detectron2.utils.visualizer import ColorMode\n",
        "\n",
        "#Use the final weights generated after successful training for inference  \n",
        "#cfg.MODEL.WEIGHTS = os.path.join(cfg.OUTPUT_DIR, \"model_final.pth\")\n",
        "cfg.MODEL.WEIGHTS=\"/content/drive/MyDrive/model_final (1).pth\"\n",
        "cfg.MODEL.ROI_HEADS.SCORE_THRESH_TEST = 0.20  # set the testing threshold for this model\n",
        "#Pass the validation dataset\n",
        "cfg.DATASETS.TEST = (\"testing\", )\n",
        "\n",
        "predictor = DefaultPredictor(cfg)\n",
        "im = cv2.imread(\"/content/test.jpg\")\n",
        "outputs = predictor(im)\n",
        "v = Visualizer(im[:, :, ::-1],\n",
        "                   metadata=microcontroller_metadata, \n",
        "                   scale=0.8,\n",
        "                   instance_mode=ColorMode.IMAGE   \n",
        "    )\n",
        "v = v.draw_instance_predictions(outputs[\"instances\"].to(\"cpu\")) #Passing the predictions to CPU from the GPU\n",
        "cv2_imshow(v.get_image()[:, :, ::-1])\n",
        "\n"
      ],
      "metadata": {
        "id": "_fOSxP2pSa6M"
      },
      "execution_count": null,
      "outputs": []
    },
    {
      "cell_type": "code",
      "source": [
        "def getList(dict):\n",
        "    return dict.keys()\n",
        "dict = outputs\n",
        "print(getList(dict))\n",
        "a=outputs[\"instances\"]\n",
        "b=a.get_fields()\n",
        "scores=b['scores'].cpu().numpy()\n",
        "rois=b['pred_boxes'].tensor.cpu().numpy()\n",
        "pred_class=b['pred_classes'].cpu().numpy()\n",
        "pred_masks=b['pred_masks'].cpu().numpy()\n",
        "min_conf=0.30\n",
        "import tensorflow as tf\n",
        "from skimage import io\n",
        "masking=pred_masks\n",
        "image_list=[]\n",
        "image_names=[]\n",
        "\n",
        "masking=masking.astype(int)\n",
        "print(masking.shape)\n",
        "for i in range(masking.shape[0]):\n",
        "  if scores[i] > min_conf and category_names[pred_class[i]]!=\"Background\":\n",
        "    temp= io.imread('/content/test.jpg')\n",
        "    for j in range(temp.shape[2]):\n",
        "        temp[:,:,j] = temp[:,:,j] * masking[i,:,:]\n",
        "    plt.figure(figsize=(4,4))\n",
        "    \n",
        "    \n",
        "    temp=cv2.cvtColor(temp, cv2.COLOR_BGR2GRAY)\n",
        "    globals()[f\"temp_{i}\"] = temp\n",
        "    image_list.append(i)\n",
        "    b=cv2.countNonZero(temp)\n",
        "    print(\"confidence: \",100*scores[i],\"   \",\"Class: \",category_names[pred_class[i]])\n",
        "    image_names.append(category_names[pred_class[i]])\n",
        "    plt.imshow(temp)\n",
        "\n",
        "import numpy as np\n",
        "from imantics import Polygons, Mask\n",
        "for i in image_list:\n",
        "  temp=globals()[f\"temp_{i}\"]\n",
        "  globals()[f\"polygons_points_{i}\"] = Mask(temp).polygons()\n",
        "  globals()[f\"polygons_cords_{i}\"]=globals()[f\"polygons_points_{i}\"].points[0]\n",
        "\n",
        "\n"
      ],
      "metadata": {
        "id": "MXjIAcDNTkb3"
      },
      "execution_count": null,
      "outputs": []
    },
    {
      "cell_type": "code",
      "source": [
        "plate_cords=[]\n",
        "for i in image_list:\n",
        "  globals()[f\"polygons_cords_{i}\"]=globals()[f\"polygons_cords_{i}\"].tolist()\n",
        "plate ={\n",
        "      \"label\":\"plate\",\n",
        "      \"line_color\" : \"null\",\n",
        "      \"fill_color\": \"null\",\n",
        "      \"points\" : plate_cords,\n",
        "     \"shape_type\" : \"polygon\"\n",
        "    \n",
        "    \n",
        "}\n",
        "shapes=[]\n",
        "j=0\n",
        "for i in image_list:\n",
        "  \n",
        "  a={\n",
        "      \"label\":str(image_names[j]),\n",
        "      \"line_color\" : \"null\",\n",
        "      \"fill_color\": \"null\",\n",
        "      \"points\" : globals()[f\"polygons_cords_{i}\"],\n",
        "     \"shape_type\" : \"polygon\"\n",
        "     \n",
        "       \n",
        "  }\n",
        "  shapes.append(a)\n",
        "  j=j+1\n",
        "shapes.append(plate)\n",
        "import json\n",
        "data={\n",
        "    \"version\": \"3.5.0\",\n",
        "    \"flags\": {},\n",
        "    \"shapes\" : shapes,\n",
        "    \"lineColor\": [\n",
        "    0,\n",
        "    255,\n",
        "    0,\n",
        "    128\n",
        "  ],\n",
        "  \"fillColor\": [\n",
        "    255,\n",
        "    0,\n",
        "    0,\n",
        "    128\n",
        "  ]\n",
        "\n",
        "      }\n",
        "json_object = json.dumps(data, indent = 4)\n",
        "with open(\"data.json\", \"w\") as outfile:\n",
        "    outfile.write(json_object)\n",
        "\n",
        "\n"
      ],
      "metadata": {
        "id": "Aa6C263qUeEG"
      },
      "execution_count": null,
      "outputs": []
    },
    {
      "cell_type": "code",
      "source": [
        "cd \"/content/drive/MyDrive/Food-Volume-Estimation/Volume Estimation\"\n",
        "!python demo.py --img \"/content/test.jpg\"  --json \"/content/drive/MyDrive/Food-Volume-Estimation/Volume Estimation/data.json\" --output \"/content/drive/MyDrive/Food-Volume-Estimation/Volume Estimation/output\"\n"
      ],
      "metadata": {
        "id": "3jIrEAR5U0-v"
      },
      "execution_count": null,
      "outputs": []
    }
  ]
}